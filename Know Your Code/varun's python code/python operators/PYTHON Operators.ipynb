{
 "cells": [
  {
   "cell_type": "markdown",
   "id": "db676c63",
   "metadata": {},
   "source": [
    "# EXP : PYTHON Operators"
   ]
  },
  {
   "cell_type": "markdown",
   "id": "2ecd72d4",
   "metadata": {},
   "source": [
    "# 1. Arithmatic Operators : are used to perform common mathematical operations."
   ]
  },
  {
   "cell_type": "code",
   "execution_count": 1,
   "id": "a2a8c36e",
   "metadata": {},
   "outputs": [
    {
     "name": "stdout",
     "output_type": "stream",
     "text": [
      "a+b = 80\n"
     ]
    }
   ],
   "source": [
    "a,b=45,35                  #'+' is the addition operator. When it is used with integers , it numerically adds them up.\n",
    "print(\"a+b =\",a+b)"
   ]
  },
  {
   "cell_type": "code",
   "execution_count": 2,
   "id": "edcf71b2",
   "metadata": {},
   "outputs": [
    {
     "name": "stdout",
     "output_type": "stream",
     "text": [
      "a+b = jalandhar\n",
      "c+d = [1, 2, 3, 'f', 'g', 'h']\n"
     ]
    }
   ],
   "source": [
    "a,b=\"jala\",\"ndhar\"         #When used with strings or lists , then it will concetenate them.\n",
    "c,d=[1,2,3],[\"f\",\"g\",\"h\"]\n",
    "print(\"a+b =\",a+b)\n",
    "print(\"c+d =\",c+d)"
   ]
  },
  {
   "cell_type": "code",
   "execution_count": 3,
   "id": "d990dfd2",
   "metadata": {},
   "outputs": [
    {
     "name": "stdout",
     "output_type": "stream",
     "text": [
      "a*b = 54\n"
     ]
    }
   ],
   "source": [
    "a,b=3,18                 #'*' is multiplication operator. when it is used with integers it multiplies them numerically.\n",
    "print(\"a*b =\",a*b)"
   ]
  },
  {
   "cell_type": "code",
   "execution_count": 4,
   "id": "a5031d7a",
   "metadata": {},
   "outputs": [
    {
     "name": "stdout",
     "output_type": "stream",
     "text": [
      "a*b = csecsecsecse\n",
      "c*d = ['p', 'q', 'r', 'p', 'q', 'r', 'p', 'q', 'r']\n"
     ]
    }
   ],
   "source": [
    "a,b=4,\"cse\"              #When used with list or strings , it performs repetition.\n",
    "c,d=3,[\"p\",\"q\",\"r\"]\n",
    "print(\"a*b =\",a*b)\n",
    "print(\"c*d =\",c*d)"
   ]
  },
  {
   "cell_type": "code",
   "execution_count": 5,
   "id": "0347503c",
   "metadata": {},
   "outputs": [
    {
     "name": "stdout",
     "output_type": "stream",
     "text": [
      "a/b = 14.285714285714286\n"
     ]
    }
   ],
   "source": [
    "a,b=100,7                #'/' is the division operator. It is used for dividing two integers.it gives float answer.\n",
    "print(\"a/b =\",a/b)"
   ]
  },
  {
   "cell_type": "code",
   "execution_count": 6,
   "id": "ba762ea3",
   "metadata": {},
   "outputs": [
    {
     "name": "stdout",
     "output_type": "stream",
     "text": [
      "a//b = 14\n"
     ]
    }
   ],
   "source": [
    "a,b=100,7             #'//' is the floor division operator. It is used for dividing two integers and give answer to greatest\n",
    "print(\"a//b =\",a//b)  # integer less than or equal to the result that would have been obtained by simple division."
   ]
  },
  {
   "cell_type": "code",
   "execution_count": 7,
   "id": "e13beac1",
   "metadata": {},
   "outputs": [
    {
     "name": "stdout",
     "output_type": "stream",
     "text": [
      "a**b = 4096\n"
     ]
    }
   ],
   "source": [
    "a,b=2,12              #'**' operator is used for raising first integer to the power equal to second integer.\n",
    "print(\"a**b =\",a**b)"
   ]
  },
  {
   "cell_type": "code",
   "execution_count": 8,
   "id": "98e4e662",
   "metadata": {},
   "outputs": [
    {
     "name": "stdout",
     "output_type": "stream",
     "text": [
      "a-b = 45\n"
     ]
    }
   ],
   "source": [
    "a,b=87,42                  #'-' is the subtraction operator. When it is used with integers , it numerically subtracts them up.\n",
    "print(\"a-b =\",a-b)"
   ]
  },
  {
   "cell_type": "code",
   "execution_count": 9,
   "id": "06cc2c71",
   "metadata": {},
   "outputs": [
    {
     "ename": "TypeError",
     "evalue": "unsupported operand type(s) for -: 'str' and 'str'",
     "output_type": "error",
     "traceback": [
      "\u001b[1;31m---------------------------------------------------------------------------\u001b[0m",
      "\u001b[1;31mTypeError\u001b[0m                                 Traceback (most recent call last)",
      "Input \u001b[1;32mIn [9]\u001b[0m, in \u001b[0;36m<cell line: 2>\u001b[1;34m()\u001b[0m\n\u001b[0;32m      1\u001b[0m a,b\u001b[38;5;241m=\u001b[39m\u001b[38;5;124m\"\u001b[39m\u001b[38;5;124mjalandhar\u001b[39m\u001b[38;5;124m\"\u001b[39m,\u001b[38;5;124m\"\u001b[39m\u001b[38;5;124mandhar\u001b[39m\u001b[38;5;124m\"\u001b[39m   \u001b[38;5;66;03m#'-' operator cannot be used for lists and strings.\u001b[39;00m\n\u001b[1;32m----> 2\u001b[0m \u001b[38;5;28mprint\u001b[39m(\u001b[38;5;124m\"\u001b[39m\u001b[38;5;124ma-b =\u001b[39m\u001b[38;5;124m\"\u001b[39m,\u001b[43ma\u001b[49m\u001b[38;5;241;43m-\u001b[39;49m\u001b[43mb\u001b[49m)\n",
      "\u001b[1;31mTypeError\u001b[0m: unsupported operand type(s) for -: 'str' and 'str'"
     ]
    }
   ],
   "source": [
    "a,b=\"jalandhar\",\"andhar\"   #'-' operator cannot be used for lists and strings.\n",
    "print(\"a-b =\",a-b)"
   ]
  },
  {
   "cell_type": "markdown",
   "id": "5d48d2db",
   "metadata": {},
   "source": [
    "# 2. Logical Operators : are used to combine conditional statements"
   ]
  },
  {
   "cell_type": "code",
   "execution_count": 10,
   "id": "02885c07",
   "metadata": {},
   "outputs": [
    {
     "data": {
      "text/plain": [
       "False"
      ]
     },
     "execution_count": 10,
     "metadata": {},
     "output_type": "execute_result"
    }
   ],
   "source": [
    "5==5 and 6==5         #And operator returns true when both statements are true."
   ]
  },
  {
   "cell_type": "code",
   "execution_count": 11,
   "id": "9bd9f041",
   "metadata": {},
   "outputs": [
    {
     "data": {
      "text/plain": [
       "True"
      ]
     },
     "execution_count": 11,
     "metadata": {},
     "output_type": "execute_result"
    }
   ],
   "source": [
    "5==5 or 6==5          #Or operator returns true if one of the statements is true."
   ]
  },
  {
   "cell_type": "code",
   "execution_count": 12,
   "id": "880b55f3",
   "metadata": {},
   "outputs": [
    {
     "data": {
      "text/plain": [
       "True"
      ]
     },
     "execution_count": 12,
     "metadata": {},
     "output_type": "execute_result"
    }
   ],
   "source": [
    "not(5==5 and 6==5)    #Not operator reverses the result i.e returns true if argument result is false."
   ]
  },
  {
   "cell_type": "markdown",
   "id": "abe45b47",
   "metadata": {},
   "source": [
    "# 3. Identity Operators : are used to compare the objects , not if they are equal but if they are actually the same object."
   ]
  },
  {
   "cell_type": "code",
   "execution_count": 13,
   "id": "eccecc96",
   "metadata": {},
   "outputs": [
    {
     "data": {
      "text/plain": [
       "True"
      ]
     },
     "execution_count": 13,
     "metadata": {},
     "output_type": "execute_result"
    }
   ],
   "source": [
    "x,y=23,23             #Returns true if both variables are the same object.\n",
    "x is y"
   ]
  },
  {
   "cell_type": "code",
   "execution_count": 14,
   "id": "e73139d8",
   "metadata": {},
   "outputs": [
    {
     "data": {
      "text/plain": [
       "True"
      ]
     },
     "execution_count": 14,
     "metadata": {},
     "output_type": "execute_result"
    }
   ],
   "source": [
    "a,b=123,84            #Returns true if both variables are not the same object.\n",
    "a is not b"
   ]
  },
  {
   "cell_type": "markdown",
   "id": "d27316e1",
   "metadata": {},
   "source": [
    "# 4. Membership Operators : are used to test if a sequence is presented in an object."
   ]
  },
  {
   "cell_type": "code",
   "execution_count": 15,
   "id": "2454e7af",
   "metadata": {},
   "outputs": [
    {
     "data": {
      "text/plain": [
       "True"
      ]
     },
     "execution_count": 15,
     "metadata": {},
     "output_type": "execute_result"
    }
   ],
   "source": [
    "a,b=\"abc\",[\"abc\",\"def\",\"ghi\"] #Returns true if a sequence with specified value is present in the object.\n",
    "a in b"
   ]
  },
  {
   "cell_type": "code",
   "execution_count": 17,
   "id": "369755d6",
   "metadata": {},
   "outputs": [
    {
     "data": {
      "text/plain": [
       "False"
      ]
     },
     "execution_count": 17,
     "metadata": {},
     "output_type": "execute_result"
    }
   ],
   "source": [
    "c,d=\"3\",[\"1\",\"2\",\"3\",\"4\",\"5\"] #Returns true if a sequence with specified value is not present in the object.\n",
    "c not in d"
   ]
  },
  {
   "cell_type": "markdown",
   "id": "7971c310",
   "metadata": {},
   "source": [
    "# 5. Comparison Operators : are used to compare two values."
   ]
  },
  {
   "cell_type": "code",
   "execution_count": null,
   "id": "114531c8",
   "metadata": {},
   "outputs": [],
   "source": []
  }
 ],
 "metadata": {
  "kernelspec": {
   "display_name": "Python 3 (ipykernel)",
   "language": "python",
   "name": "python3"
  },
  "language_info": {
   "codemirror_mode": {
    "name": "ipython",
    "version": 3
   },
   "file_extension": ".py",
   "mimetype": "text/x-python",
   "name": "python",
   "nbconvert_exporter": "python",
   "pygments_lexer": "ipython3",
   "version": "3.10.4"
  }
 },
 "nbformat": 4,
 "nbformat_minor": 5
}
