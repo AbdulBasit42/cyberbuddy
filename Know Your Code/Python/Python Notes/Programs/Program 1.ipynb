{
 "cells": [
  {
   "cell_type": "code",
   "execution_count": 1,
   "metadata": {},
   "outputs": [
    {
     "name": "stdout",
     "output_type": "stream",
     "text": [
      "2004 is a leap year\n"
     ]
    }
   ],
   "source": [
    "#User enters the year\n",
    "#year = int(input(\"Enter year: \"))\n",
    "\n",
    "year=2004\n",
    "#leap year check\n",
    "if year %4 == 0 and year % 100 !=0:\n",
    "    print(year, \"is a leap year\") \n",
    "elif year % 100 == 0:\n",
    "  print(year,\"is not a leap year\")\n",
    "elif year % 400 == 0 :\n",
    "  print(year,\"is a leap year\")\n",
    "else :\n",
    "  print(year, \" is not a leap year\")"
   ]
  }
 ],
 "metadata": {
  "interpreter": {
   "hash": "369f2c481f4da34e4445cda3fffd2e751bd1c4d706f27375911949ba6bb62e1c"
  },
  "kernelspec": {
   "display_name": "Python 3.10.2 64-bit",
   "language": "python",
   "name": "python3"
  },
  "language_info": {
   "codemirror_mode": {
    "name": "ipython",
    "version": 3
   },
   "file_extension": ".py",
   "mimetype": "text/x-python",
   "name": "python",
   "nbconvert_exporter": "python",
   "pygments_lexer": "ipython3",
   "version": "3.10.2"
  },
  "orig_nbformat": 4
 },
 "nbformat": 4,
 "nbformat_minor": 2
}
